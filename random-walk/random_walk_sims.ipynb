{
  "nbformat": 4,
  "nbformat_minor": 0,
  "metadata": {
    "colab": {
      "name": "random_walk_sims.ipynb",
      "provenance": [],
      "collapsed_sections": []
    },
    "kernelspec": {
      "display_name": "Python 3",
      "language": "python",
      "name": "python3"
    },
    "language_info": {
      "codemirror_mode": {
        "name": "ipython",
        "version": 3
      },
      "file_extension": ".py",
      "mimetype": "text/x-python",
      "name": "python",
      "nbconvert_exporter": "python",
      "pygments_lexer": "ipython3",
      "version": "3.7.6"
    }
  },
  "cells": [
    {
      "cell_type": "markdown",
      "metadata": {
        "colab_type": "text",
        "id": "LxtU3qzNoxd8"
      },
      "source": [
        "#ALMANIK BALINGGA </br>\n",
        "#1301184253"
      ]
    },
    {
      "cell_type": "markdown",
      "metadata": {
        "colab_type": "text",
        "id": "7V8Jz9yTaXrU"
      },
      "source": [
        "VERSI 10 PARTIKEL"
      ]
    },
    {
      "cell_type": "code",
      "metadata": {
        "colab_type": "code",
        "id": "2dlQlYvFa_s_",
        "colab": {}
      },
      "source": [
        "import numpy \n",
        "import matplotlib.pyplot as plt\n",
        "import random "
      ],
      "execution_count": 0,
      "outputs": []
    },
    {
      "cell_type": "code",
      "metadata": {
        "colab_type": "code",
        "id": "VpMCb2q6bDh1",
        "colab": {}
      },
      "source": [
        "#banyak langkah diinput\n",
        "#ini kalo diinput\n",
        "#n = int(input(\"Input Jumlah Langkah: \"))     \n",
        "n=100"
      ],
      "execution_count": 0,
      "outputs": []
    },
    {
      "cell_type": "code",
      "metadata": {
        "colab_type": "code",
        "id": "X5_j1BFAbFbT",
        "colab": {}
      },
      "source": [
        "#maksimal jarak agar tidak jalan terlalu jauh\n",
        "x_max =5\n",
        "x_min =-5\n",
        "y_max =5\n",
        "y_min =-5\n",
        "\n",
        "#range jika melewati batas \n",
        "x_range = x_max-x_min\n",
        "y_range = y_max-y_min "
      ],
      "execution_count": 0,
      "outputs": []
    },
    {
      "cell_type": "code",
      "metadata": {
        "colab_type": "code",
        "id": "mN5xUgEmIr2B",
        "colab": {}
      },
      "source": [
        "for j in range (0,2):\n",
        "  #biar si x selalu di reset\n",
        "  x = numpy.zeros(n) \n",
        "  y = numpy.zeros(n)\n",
        "  # looping buat nyari kordinat\n",
        "  for i in range(0, n): \n",
        "      val = random.uniform(0, 1) \n",
        "    #print(\"Random Value: \",val)\n",
        "      if val < 0.25 : \n",
        "        #atas\n",
        "          x[i] = x[i-1]\n",
        "          y[i] = y[i-1] + 1\n",
        "      elif val < 0.50: \n",
        "        #kanan\n",
        "          x[i] = x[i-1] + 1\n",
        "          y[i] = y[i-1] \n",
        "      elif val < 0.75: \n",
        "        #bawah\n",
        "          x[i] = x[i-1] \n",
        "          y[i] = y[i-1] - 1\n",
        "      else:\n",
        "        #kiri\n",
        "          x[i] = x[i-1] - 1\n",
        "          y[i] = y[i-1]\n",
        "    #penanganan jika koordinat diluar batas\n",
        "      if x[i] > x_max:\n",
        "        x[i] -=  x_range\n",
        "      if x[i] < x_min:\n",
        "        x[i] = x[i] + x_range\n",
        "      if y[i] > y_max:\n",
        "        y[i] -= y_range\n",
        "      if y[i] < y_min:\n",
        "        y[i] = y[i] + y_range\n",
        "  #sudah buntu bu akhirnya saya korbankan if else yang panjang ini\n",
        "  if j == 0 :\n",
        "    x1=x\n",
        "    y1=y\n",
        "  else:\n",
        "    x2=x\n",
        "    y2=y\n",
        "\n"
      ],
      "execution_count": 0,
      "outputs": []
    },
    {
      "cell_type": "code",
      "metadata": {
        "colab_type": "code",
        "id": "ea_ci-4EbOI6",
        "outputId": "5166940f-0a86-4931-9b3f-6cc7f07273fa",
        "colab": {
          "base_uri": "https://localhost:8080/",
          "height": 658
        }
      },
      "source": [
        "#linegraph\n",
        "plt.figure(num=None, figsize=(10, 10), dpi=80, facecolor='w', edgecolor='k')\n",
        "plt.scatter(x[0],[0], c='g')\n",
        "plt.scatter(x[-1],[-1],c='r')\n",
        "plt.scatter(x1[0],[0], c='g')\n",
        "plt.scatter(x1[-1],[-1],c='r')\n",
        "plt.plot(x1, y1, c=\"r\")\n",
        "plt.plot(x, y, c=\"b\")\n",
        "plt.ylim(-10,10)\n",
        "plt.xlim(-10,10)\n",
        "plt.show()"
      ],
      "execution_count": 18,
      "outputs": [
        {
          "output_type": "display_data",
          "data": {
            "image/png": "[encoded data removed]",
            "text/plain": [
              "<Figure size 800x800 with 1 Axes>"
            ]
          },
          "metadata": {
            "tags": []
          }
        }
      ]
    },
    {
      "cell_type": "code",
      "metadata": {
        "colab_type": "code",
        "id": "UJiQz8JZbSUS",
        "outputId": "bbfa6520-48ac-4b99-d317-b944dea77269",
        "colab": {
          "base_uri": "https://localhost:8080/",
          "height": 269
        }
      },
      "source": [
        "#scatter\n",
        "plt.figure()\n",
        "plt.plot(x1, y1,'.', c=\"r\")\n",
        "plt.plot(x, y,'.', c=\"b\")\n",
        "plt.ylim(-10,10)\n",
        "plt.xlim(-10,10)\n",
        "plt.show()"
      ],
      "execution_count": 19,
      "outputs": [
        {
          "output_type": "display_data",
          "data": {
            "image/png": "[encoded data removed]",
            "text/plain": [
              "<Figure size 432x288 with 1 Axes>"
            ]
          },
          "metadata": {
            "tags": [],
            "needs_background": "light"
          }
        }
      ]
    },
    {
      "cell_type": "markdown",
      "metadata": {
        "colab_type": "text",
        "id": "dXmmrSWQbi3r"
      },
      "source": [
        "------------------------------------------------------------------------------------------------\n"
      ]
    },
    {
      "cell_type": "markdown",
      "metadata": {
        "colab_type": "text",
        "id": "vZz_1RimaNob"
      },
      "source": [
        "1 PARTICLE VER."
      ]
    },
    {
      "cell_type": "markdown",
      "metadata": {
        "colab_type": "text",
        "id": "-0a5UkPXbkKS"
      },
      "source": [
        "--------------------------------------------------------------------------------"
      ]
    },
    {
      "cell_type": "code",
      "metadata": {
        "colab_type": "code",
        "id": "CGSSSVN_aLdB",
        "outputId": "f96ee2fd-0691-4982-9822-a249693adfa8",
        "colab": {
          "base_uri": "https://localhost:8080/",
          "height": 1000
        }
      },
      "source": [
        "import numpy \n",
        "import matplotlib.pyplot as plt\n",
        "import random \n",
        "  \n",
        "#banyak langkah diinput\n",
        "n = int(input(\"Input Jumlah Langkah: \"))\n",
        "\n",
        "#karena titik inisiasi ada di 0,0 dan terhitung satu langkah\n",
        "n = n+1 \n",
        "#buat array yang kosong\n",
        "x = numpy.zeros(n) \n",
        "y = numpy.zeros(n) \n",
        "\n",
        "#maksimal jarak agar tidak jalan terlalu jauh\n",
        "x_max =10\n",
        "x_min =-10\n",
        "y_max =10\n",
        "y_min =-10\n",
        "\n",
        "#range jika melewati batas \n",
        "x_range = x_max-x_min\n",
        "y_range = y_max-y_min \n",
        "# looping buat nyari kordinat\n",
        "for i in range(0, n-1): \n",
        "    val = random.uniform(0, 1) \n",
        "    print(\"Random Value: \",val)\n",
        "    if val < 0.25 : \n",
        "        #atas\n",
        "        x[i+1] = x[i]\n",
        "        y[i+1] = y[i] + 1\n",
        "\n",
        "    elif val < 0.50: \n",
        "        #kanan\n",
        "        x[i+1] = x[i] + 1\n",
        "        y[i+1] = y[i] \n",
        "    elif val < 0.75: \n",
        "        #bawah\n",
        "        x[i+1] = x[i] \n",
        "        y[i+1] = y[i] - 1\n",
        "    else:\n",
        "        #kiri\n",
        "        x[i+1] = x[i] - 1\n",
        "        y[i+1] = y[i]\n",
        "    #penanganan jika koordinat diluar batas\n",
        "    if x[i] > x_max:\n",
        "      x[i] -=  x_range\n",
        "    if x[i] < x_min:\n",
        "      x[i] = x[i] + x_range\n",
        "    if y[i] > y_max:\n",
        "      y[i] -= y_range\n",
        "    if y[i] < y_min:\n",
        "      y[i] = y[i] + y_range\n",
        " \n",
        "      \n",
        "# output:\n",
        "for j in range (0,n):\n",
        "    print(\"Kordinat:\",\"(\",x[j],\" , \",y[j],\")\")\n",
        "\n",
        "# line plotting: \n",
        "plt.figure()\n",
        "plt.plot(x, y, c=\"b\")\n",
        "plt.ylim(-10,10)\n",
        "plt.xlim(-10,10)\n",
        "plt.show()\n",
        "#scatter\n",
        "plt.figure()\n",
        "plt.plot(x, y,'.', c=\"b\")\n",
        "plt.ylim(-10,10)\n",
        "plt.xlim(-10,10)\n",
        "plt.show()"
      ],
      "execution_count": 20,
      "outputs": [
        {
          "output_type": "stream",
          "text": [
            "Input Jumlah Langkah: 50\n",
            "Random Value:  0.335091016239343\n",
            "Random Value:  0.6215244299066296\n",
            "Random Value:  0.10118101761939335\n",
            "Random Value:  0.9639612326815307\n",
            "Random Value:  0.9078594095495771\n",
            "Random Value:  0.7155031329420855\n",
            "Random Value:  0.31367839474229564\n",
            "Random Value:  0.27950663754688443\n",
            "Random Value:  0.6601554779048773\n",
            "Random Value:  0.3792303734691125\n",
            "Random Value:  0.42640845883763423\n",
            "Random Value:  0.8781558001989472\n",
            "Random Value:  0.6845180922962535\n",
            "Random Value:  0.49946473615948717\n",
            "Random Value:  0.6431060623633803\n",
            "Random Value:  0.025946989490598482\n",
            "Random Value:  0.7165051434646027\n",
            "Random Value:  0.12308256699978737\n",
            "Random Value:  0.9773458384177249\n",
            "Random Value:  0.65875831110778\n",
            "Random Value:  0.5375795262518017\n",
            "Random Value:  0.9838969096200672\n",
            "Random Value:  0.7157428738073829\n",
            "Random Value:  0.07096697079123748\n",
            "Random Value:  0.34850023343296255\n",
            "Random Value:  0.7668417137174204\n",
            "Random Value:  0.29560887747844367\n",
            "Random Value:  0.4083877841087108\n",
            "Random Value:  0.5050163997386672\n",
            "Random Value:  0.8044734746619616\n",
            "Random Value:  0.6562127191195817\n",
            "Random Value:  0.47447732812311827\n",
            "Random Value:  0.9177962768055841\n",
            "Random Value:  0.11439459355587611\n",
            "Random Value:  0.4054085475936272\n",
            "Random Value:  0.2764770620670606\n",
            "Random Value:  0.07561386018751692\n",
            "Random Value:  0.12930311905634928\n",
            "Random Value:  0.7249039534185288\n",
            "Random Value:  0.11070516772128247\n",
            "Random Value:  0.6451207939906324\n",
            "Random Value:  0.9773577909950201\n",
            "Random Value:  0.9773508643783654\n",
            "Random Value:  0.5422963381308336\n",
            "Random Value:  0.2151327844337808\n",
            "Random Value:  0.07989675657053141\n",
            "Random Value:  0.9698360786161859\n",
            "Random Value:  0.0694720579644359\n",
            "Random Value:  0.6883407727064688\n",
            "Random Value:  0.14435968568228263\n",
            "Kordinat: ( 0.0  ,  0.0 )\n",
            "Kordinat: ( 1.0  ,  0.0 )\n",
            "Kordinat: ( 1.0  ,  -1.0 )\n",
            "Kordinat: ( 1.0  ,  0.0 )\n",
            "Kordinat: ( 0.0  ,  0.0 )\n",
            "Kordinat: ( -1.0  ,  0.0 )\n",
            "Kordinat: ( -1.0  ,  -1.0 )\n",
            "Kordinat: ( 0.0  ,  -1.0 )\n",
            "Kordinat: ( 1.0  ,  -1.0 )\n",
            "Kordinat: ( 1.0  ,  -2.0 )\n",
            "Kordinat: ( 2.0  ,  -2.0 )\n",
            "Kordinat: ( 3.0  ,  -2.0 )\n",
            "Kordinat: ( 2.0  ,  -2.0 )\n",
            "Kordinat: ( 2.0  ,  -3.0 )\n",
            "Kordinat: ( 3.0  ,  -3.0 )\n",
            "Kordinat: ( 3.0  ,  -4.0 )\n",
            "Kordinat: ( 3.0  ,  -3.0 )\n",
            "Kordinat: ( 3.0  ,  -4.0 )\n",
            "Kordinat: ( 3.0  ,  -3.0 )\n",
            "Kordinat: ( 2.0  ,  -3.0 )\n",
            "Kordinat: ( 2.0  ,  -4.0 )\n",
            "Kordinat: ( 2.0  ,  -5.0 )\n",
            "Kordinat: ( 1.0  ,  -5.0 )\n",
            "Kordinat: ( 1.0  ,  -6.0 )\n",
            "Kordinat: ( 1.0  ,  -5.0 )\n",
            "Kordinat: ( 2.0  ,  -5.0 )\n",
            "Kordinat: ( 1.0  ,  -5.0 )\n",
            "Kordinat: ( 2.0  ,  -5.0 )\n",
            "Kordinat: ( 3.0  ,  -5.0 )\n",
            "Kordinat: ( 3.0  ,  -6.0 )\n",
            "Kordinat: ( 2.0  ,  -6.0 )\n",
            "Kordinat: ( 2.0  ,  -7.0 )\n",
            "Kordinat: ( 3.0  ,  -7.0 )\n",
            "Kordinat: ( 2.0  ,  -7.0 )\n",
            "Kordinat: ( 2.0  ,  -6.0 )\n",
            "Kordinat: ( 3.0  ,  -6.0 )\n",
            "Kordinat: ( 4.0  ,  -6.0 )\n",
            "Kordinat: ( 4.0  ,  -5.0 )\n",
            "Kordinat: ( 4.0  ,  -4.0 )\n",
            "Kordinat: ( 4.0  ,  -5.0 )\n",
            "Kordinat: ( 4.0  ,  -4.0 )\n",
            "Kordinat: ( 4.0  ,  -5.0 )\n",
            "Kordinat: ( 3.0  ,  -5.0 )\n",
            "Kordinat: ( 2.0  ,  -5.0 )\n",
            "Kordinat: ( 2.0  ,  -6.0 )\n",
            "Kordinat: ( 2.0  ,  -5.0 )\n",
            "Kordinat: ( 2.0  ,  -4.0 )\n",
            "Kordinat: ( 1.0  ,  -4.0 )\n",
            "Kordinat: ( 1.0  ,  -3.0 )\n",
            "Kordinat: ( 1.0  ,  -4.0 )\n",
            "Kordinat: ( 1.0  ,  -3.0 )\n"
          ],
          "name": "stdout"
        },
        {
          "output_type": "display_data",
          "data": {
            "image/png": "[encoded data removed]",
            "text/plain": [
              "<Figure size 432x288 with 1 Axes>"
            ]
          },
          "metadata": {
            "tags": [],
            "needs_background": "light"
          }
        },
        {
          "output_type": "display_data",
          "data": {
            "image/png": "[encoded data removed]",
            "text/plain": [
              "<Figure size 432x288 with 1 Axes>"
            ]
          },
          "metadata": {
            "tags": [],
            "needs_background": "light"
          }
        }
      ]
    }
  ]
}