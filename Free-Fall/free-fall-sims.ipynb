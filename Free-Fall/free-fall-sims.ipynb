{
  "nbformat": 4,
  "nbformat_minor": 0,
  "metadata": {
    "colab": {
      "name": "mosi tidak percaya.ipynb",
      "provenance": [],
      "collapsed_sections": []
    },
    "kernelspec": {
      "name": "python3",
      "display_name": "Python 3"
    }
  },
  "cells": [
    {
      "cell_type": "code",
      "metadata": {
        "id": "73G9EclHRveN",
        "colab_type": "code",
        "colab": {}
      },
      "source": [
        "import numpy as np\n",
        "import matplotlib.patches as mpatches\n",
        "import matplotlib.pyplot as plt"
      ],
      "execution_count": 0,
      "outputs": []
    },
    {
      "cell_type": "code",
      "metadata": {
        "id": "j9ML32OySUNz",
        "colab_type": "code",
        "colab": {}
      },
      "source": [
        "def waktunyentuh(y0, v0, a):\n",
        "    d = np.sqrt(v0**2 - 2*a*y0)\n",
        "    t1 = (-v0 - d) / a\n",
        "    t2 = (-v0 + d) / a\n",
        "    if t1 >=0:\n",
        "        return t1\n",
        "    return t2"
      ],
      "execution_count": 0,
      "outputs": []
    },
    {
      "cell_type": "code",
      "metadata": {
        "id": "zJ44z_EESXvY",
        "colab_type": "code",
        "colab": {}
      },
      "source": [
        "def waktujatuh(y0):\n",
        "  v0=0.0 #v0\n",
        "  g=-9.8 #gravitasi  \n",
        "  dt = 0.01\n",
        "  t = np.arange(0, 1000, dt)\n",
        "  y2=y0\n",
        "  i=0\n",
        "  while(y2>=0.1):\n",
        "    v = v0 + g * t[i]\n",
        "    y = y0 + v0 * t[i] + g * t[i]**2 / 2\n",
        "    v2= v+g*(t[i]+dt)\n",
        "    y2= y+v2*dt\n",
        "    i+=1\n",
        "  print(t[i-1])\n",
        "  "
      ],
      "execution_count": 0,
      "outputs": []
    },
    {
      "cell_type": "code",
      "metadata": {
        "id": "TTTBixQ27Du2",
        "colab_type": "code",
        "colab": {}
      },
      "source": [
        "def drop(y0):\n",
        "    if y0 <= 0:\n",
        "        return print('Objek tidak jatuh')\n",
        "    \n",
        "    v0=0.0 #v0\n",
        "    g=-9.8 #gravitasi\n",
        "    dt=0.01 # timestep\n",
        "    \n",
        "    #mencari waktu menyentuh tanah \n",
        "    t_tanah = waktunyentuh(y0, v0, g)\n",
        "\n",
        "    #membuat array waktu dari 0,0 - menyentuh tanah\n",
        "    t = np.arange(0, t_tanah+dt, dt)\n",
        "\n",
        "    #Solusi Analitik\n",
        "    v = v0 + g * t\n",
        "    y = y0 + v0 * t + g * t**2 / 2\n",
        "    \n",
        "    #Solusi numerik\n",
        "    v2= v+g*(t)\n",
        "    y2= y+v2*dt\n",
        "\n",
        "    #Melihat timestep\n",
        "    print(\"timestep = \",t)\n",
        "    \n",
        "    print(\"Analitik :\")\n",
        "\n",
        "    #Untuk mencari waktu di ketinggian tertentu (analitik)\n",
        "    yt=0\n",
        "    t0 = np.sqrt(2*(yt-y0)/g)\n",
        "    print(\"Waktu saat menyentuh tanah (analitik) = \",t0)\n",
        "\n",
        "    #untuk mencari tinggi di waktu tertentu (analitik)\n",
        "    t_ter= 0.8\n",
        "    y3 = y0 + g * t_ter**2 / 2\n",
        "    print(\"ketinggian saat di t = \",t_ter,\" adalah \",y3)\n",
        "\n",
        "    #ketinggian analitik\n",
        "    print(y)\n",
        "\n",
        "    print(\"Numerik :\")\n",
        "    print(\"Waktu saat menyentuh tanah (numerik) : \")\n",
        "    waktujatuh(y0)\n",
        "    #ketinggian numerik\n",
        "    print(y2)\n",
        "\n",
        "    #keterangan\n",
        "    analitik = mpatches.Patch(color='red', label='Analitik')\n",
        "    numerik = mpatches.Patch(color='blue', label='Numerik')\n",
        "\n",
        "    #membuat plot\n",
        "    plt.figure()\n",
        "    plt.plot(t, y, c=\"r\", label = 'Analitik')\n",
        "    plt.plot(t, y2,'.', c=\"b\", label = 'Numerik')\n",
        "    plt.axvline(t_tanah, color='black')\n",
        "    plt.axhline(0, color='black')\n",
        "    plt.xlabel('Waktu (s)')\n",
        "    plt.ylabel('Ketinggian (m)')\n",
        "    plt.legend(handles=[analitik,numerik],loc = \"lower left\")\n",
        "    plt.ylim(0,y0)\n",
        "    plt.show()"
      ],
      "execution_count": 0,
      "outputs": []
    },
    {
      "cell_type": "code",
      "metadata": {
        "id": "tG1pOhrqSbbx",
        "colab_type": "code",
        "outputId": "69993a6a-cb97-4a3a-9b9c-03d42ab9247c",
        "colab": {
          "base_uri": "https://localhost:8080/",
          "height": 1000
        }
      },
      "source": [
        "x = int(input(\"Ketinggian = \"))\n",
        "drop(x)"
      ],
      "execution_count": 0,
      "outputs": [
        {
          "output_type": "stream",
          "text": [
            "Ketinggian = 10\n",
            "timestep =  [0.   0.01 0.02 0.03 0.04 0.05 0.06 0.07 0.08 0.09 0.1  0.11 0.12 0.13\n",
            " 0.14 0.15 0.16 0.17 0.18 0.19 0.2  0.21 0.22 0.23 0.24 0.25 0.26 0.27\n",
            " 0.28 0.29 0.3  0.31 0.32 0.33 0.34 0.35 0.36 0.37 0.38 0.39 0.4  0.41\n",
            " 0.42 0.43 0.44 0.45 0.46 0.47 0.48 0.49 0.5  0.51 0.52 0.53 0.54 0.55\n",
            " 0.56 0.57 0.58 0.59 0.6  0.61 0.62 0.63 0.64 0.65 0.66 0.67 0.68 0.69\n",
            " 0.7  0.71 0.72 0.73 0.74 0.75 0.76 0.77 0.78 0.79 0.8  0.81 0.82 0.83\n",
            " 0.84 0.85 0.86 0.87 0.88 0.89 0.9  0.91 0.92 0.93 0.94 0.95 0.96 0.97\n",
            " 0.98 0.99 1.   1.01 1.02 1.03 1.04 1.05 1.06 1.07 1.08 1.09 1.1  1.11\n",
            " 1.12 1.13 1.14 1.15 1.16 1.17 1.18 1.19 1.2  1.21 1.22 1.23 1.24 1.25\n",
            " 1.26 1.27 1.28 1.29 1.3  1.31 1.32 1.33 1.34 1.35 1.36 1.37 1.38 1.39\n",
            " 1.4  1.41 1.42 1.43]\n",
            "Analitik :\n",
            "Waktu saat menyentuh tanah (analitik) =  1.4285714285714286\n",
            "ketinggian saat di t =  0.8  adalah  6.863999999999999\n",
            "[10.       9.99951  9.99804  9.99559  9.99216  9.98775  9.98236  9.97599\n",
            "  9.96864  9.96031  9.951    9.94071  9.92944  9.91719  9.90396  9.88975\n",
            "  9.87456  9.85839  9.84124  9.82311  9.804    9.78391  9.76284  9.74079\n",
            "  9.71776  9.69375  9.66876  9.64279  9.61584  9.58791  9.559    9.52911\n",
            "  9.49824  9.46639  9.43356  9.39975  9.36496  9.32919  9.29244  9.25471\n",
            "  9.216    9.17631  9.13564  9.09399  9.05136  9.00775  8.96316  8.91759\n",
            "  8.87104  8.82351  8.775    8.72551  8.67504  8.62359  8.57116  8.51775\n",
            "  8.46336  8.40799  8.35164  8.29431  8.236    8.17671  8.11644  8.05519\n",
            "  7.99296  7.92975  7.86556  7.80039  7.73424  7.66711  7.599    7.52991\n",
            "  7.45984  7.38879  7.31676  7.24375  7.16976  7.09479  7.01884  6.94191\n",
            "  6.864    6.78511  6.70524  6.62439  6.54256  6.45975  6.37596  6.29119\n",
            "  6.20544  6.11871  6.031    5.94231  5.85264  5.76199  5.67036  5.57775\n",
            "  5.48416  5.38959  5.29404  5.19751  5.1      5.00151  4.90204  4.80159\n",
            "  4.70016  4.59775  4.49436  4.38999  4.28464  4.17831  4.071    3.96271\n",
            "  3.85344  3.74319  3.63196  3.51975  3.40656  3.29239  3.17724  3.06111\n",
            "  2.944    2.82591  2.70684  2.58679  2.46576  2.34375  2.22076  2.09679\n",
            "  1.97184  1.84591  1.719    1.59111  1.46224  1.33239  1.20156  1.06975\n",
            "  0.93696  0.80319  0.66844  0.53271  0.396    0.25831  0.11964 -0.02001]\n",
            "Numerik :\n",
            "Waktu saat menyentuh tanah (numerik) : \n",
            "1.41\n",
            "[10.       9.99755  9.99412  9.98971  9.98432  9.97795  9.9706   9.96227\n",
            "  9.95296  9.94267  9.9314   9.91915  9.90592  9.89171  9.87652  9.86035\n",
            "  9.8432   9.82507  9.80596  9.78587  9.7648   9.74275  9.71972  9.69571\n",
            "  9.67072  9.64475  9.6178   9.58987  9.56096  9.53107  9.5002   9.46835\n",
            "  9.43552  9.40171  9.36692  9.33115  9.2944   9.25667  9.21796  9.17827\n",
            "  9.1376   9.09595  9.05332  9.00971  8.96512  8.91955  8.873    8.82547\n",
            "  8.77696  8.72747  8.677    8.62555  8.57312  8.51971  8.46532  8.40995\n",
            "  8.3536   8.29627  8.23796  8.17867  8.1184   8.05715  7.99492  7.93171\n",
            "  7.86752  7.80235  7.7362   7.66907  7.60096  7.53187  7.4618   7.39075\n",
            "  7.31872  7.24571  7.17172  7.09675  7.0208   6.94387  6.86596  6.78707\n",
            "  6.7072   6.62635  6.54452  6.46171  6.37792  6.29315  6.2074   6.12067\n",
            "  6.03296  5.94427  5.8546   5.76395  5.67232  5.57971  5.48612  5.39155\n",
            "  5.296    5.19947  5.10196  5.00347  4.904    4.80355  4.70212  4.59971\n",
            "  4.49632  4.39195  4.2866   4.18027  4.07296  3.96467  3.8554   3.74515\n",
            "  3.63392  3.52171  3.40852  3.29435  3.1792   3.06307  2.94596  2.82787\n",
            "  2.7088   2.58875  2.46772  2.34571  2.22272  2.09875  1.9738   1.84787\n",
            "  1.72096  1.59307  1.4642   1.33435  1.20352  1.07171  0.93892  0.80515\n",
            "  0.6704   0.53467  0.39796  0.26027  0.1216  -0.01805 -0.15868 -0.30029]\n"
          ],
          "name": "stdout"
        },
        {
          "output_type": "display_data",
          "data": {
            "image/png": "[encoded data removed]",
            "text/plain": [
              "<Figure size 432x288 with 1 Axes>"
            ]
          },
          "metadata": {
            "tags": []
          }
        }
      ]
    }
  ]
}